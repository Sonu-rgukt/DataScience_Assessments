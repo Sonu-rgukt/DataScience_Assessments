{
 "cells": [
  {
   "cell_type": "code",
   "execution_count": 1,
   "metadata": {},
   "outputs": [
    {
     "name": "stdout",
     "output_type": "stream",
     "text": [
      "5720\n"
     ]
    }
   ],
   "source": [
    "import urllib.request\n",
    "url = \"https://rguktsklm.ac.in/index.php\"\n",
    "resp = urllib.request.urlopen(url)\n",
    "page1 = resp.read()\n",
    "page = str(page1)\n",
    "print(page.find(\"<a href\"))"
   ]
  },
  {
   "cell_type": "code",
   "execution_count": 22,
   "metadata": {},
   "outputs": [
    {
     "name": "stdout",
     "output_type": "stream",
     "text": [
      "universitydata.php?data=overview\n",
      "universitydata.php?data=campuslife\n",
      "universitydata.php?data=EducationSystem\n",
      "gallery.php\n",
      "universitydata.php?data=chancellor\n",
      "universitydata.php?data=director\n",
      "universitydata.php?data=administration\n",
      "departments.php\n",
      "departments.php\n",
      "departments.php\n",
      "http://admissions.rguktn.ac.in/ugadmissions/\n",
      "http://admissions.rguktn.ac.in/ugadmissions/\n",
      "http://admissions.rguktn.ac.in/ugadmissions/\n",
      "documents/files/academiccalendar.pdf\n",
      "http://examcell.rguktsklm.ac.in\n",
      "#\n",
      "address.php\n",
      "rti.php\n",
      "webteam.php\n",
      "_blank\n",
      "#\n",
      "http://examcell.rguktsklm.ac.in/\n",
      "#\n",
      "admin/uploads/notifications/Notice-Students.docx\n",
      "admin/uploads/notifications/Guidelines to the Students_Mod.pdf\n",
      "admin/uploads/notifications/1635521654.docx\n",
      "admin/uploads/notifications/1634987111.docx\n",
      "admin/uploads/notifications/1634288456.pdf\n",
      "admin/uploads/notifications/1634043450.jpg\n",
      "admin/uploads/notifications/1627383948.pdf\n",
      "admin/uploads/notifications/1625392471.pdf\n",
      "admin/uploads/notifications/1621435589.png\n",
      "http://examcell.rguktsklm.ac.in/E_2018_details.html\n",
      "http://examcell.rguktsklm.ac.in/E_2018_P2__REG_2.html\n",
      "admin/uploads/notifications/1604382648.pdf\n",
      "admin/uploads/notifications/1600709311.pdf\n",
      "admin/uploads/notifications/1595837920.pdf\n",
      "admin/uploads/notifications/1593056352.pdf\n",
      "admin/uploads/notifications/1591009539.pdf\n",
      "admin/uploads/notifications/1590729623.pdf\n",
      "admin/uploads/notifications/1588565034.pdf\n",
      "admin/uploads/notifications/1587104091.pdf\n",
      "http://rguktsklm.ac.in/pledge\n",
      "admin/uploads/notifications/1585466787.pdf\n",
      "http://examcell.rguktsklm.ac.in/E_2019_P1_1.html\n",
      "https://www.nitw.ac.in/eict/upcoming.php\n",
      "http://rguktsklm.ac.in/grievancecell/\n",
      "http://examcell.rguktsklm.ac.in/\n",
      "http://examcell.rguktsklm.ac.in/\n",
      "http://rguktsklm.ac.in/careers.php\n"
     ]
    }
   ],
   "source": [
    "import urllib.request\n",
    "url = \"https://rguktsklm.ac.in/index.php\"\n",
    "resp = urllib.request.urlopen(url)\n",
    "page1 = resp.read()\n",
    "page = str(page1)\n",
    "#print(page)\n",
    "def geturl(page):\n",
    "    start_link = page.find(\"<a href\")\n",
    "    \n",
    "    start_quote = page.find('\"',start_link)\n",
    "    \n",
    "    end_quote = page.find('\"',start_quote+1)\n",
    "    \n",
    "    url=page[start_quote+1: end_quote]\n",
    "\n",
    "    return url,end_quote\n",
    "while True:\n",
    "    url,n = geturl(page)\n",
    "    page = page[n:]\n",
    "    \n",
    "    #print(page)\n",
    "    if url:\n",
    "        print(url)\n",
    "  \n",
    "    else:\n",
    "        break \n"
   ]
  },
  {
   "cell_type": "code",
   "execution_count": 25,
   "metadata": {},
   "outputs": [
    {
     "name": "stdout",
     "output_type": "stream",
     "text": [
      "<Response [200]>\n",
      "https://www.coursera.org/in\n",
      "('/iitb', 277139)\n"
     ]
    }
   ],
   "source": [
    "import requests\n",
    "#making a get request \n",
    "page = requests.get(\"https://www.coursera.org/\")\n",
    "print(page)\n",
    "#check status if status is 200 then we have the access for fetching data from that website\n",
    "#print(page.content)\n",
    "print(page.url)\n",
    "content=str(page.content)\n",
    "url=geturl(content)\n",
    "print(url)\n"
   ]
  },
  {
   "cell_type": "code",
   "execution_count": 2,
   "metadata": {},
   "outputs": [
    {
     "data": {
      "text/plain": [
       "0    x\n",
       "dtype: object"
      ]
     },
     "execution_count": 2,
     "metadata": {},
     "output_type": "execute_result"
    }
   ],
   "source": [
    "import pandas as pd\n",
    "a=pd.Series(['x'])\n",
    "a"
   ]
  },
  {
   "cell_type": "code",
   "execution_count": null,
   "metadata": {},
   "outputs": [],
   "source": []
  },
  {
   "cell_type": "code",
   "execution_count": null,
   "metadata": {},
   "outputs": [],
   "source": []
  },
  {
   "cell_type": "code",
   "execution_count": null,
   "metadata": {},
   "outputs": [],
   "source": []
  },
  {
   "cell_type": "code",
   "execution_count": null,
   "metadata": {},
   "outputs": [],
   "source": []
  }
 ],
 "metadata": {
  "kernelspec": {
   "display_name": "Python 3",
   "language": "python",
   "name": "python3"
  },
  "language_info": {
   "codemirror_mode": {
    "name": "ipython",
    "version": 3
   },
   "file_extension": ".py",
   "mimetype": "text/x-python",
   "name": "python",
   "nbconvert_exporter": "python",
   "pygments_lexer": "ipython3",
   "version": "3.8.5"
  }
 },
 "nbformat": 4,
 "nbformat_minor": 4
}
